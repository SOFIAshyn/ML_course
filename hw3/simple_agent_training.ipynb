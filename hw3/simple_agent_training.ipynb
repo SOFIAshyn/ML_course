{
 "cells": [
  {
   "cell_type": "code",
   "execution_count": 1,
   "metadata": {},
   "outputs": [],
   "source": [
    "import os\n",
    "import pickle\n",
    "import numpy as np\n",
    "import matplotlib.pyplot as plt\n",
    "import pandas as pd\n",
    "\n",
    "from sales_predictor import SalesPredictor\n",
    "from simple_market import MarketEnv, MarketAgent\n",
    "from trainer import train\n",
    "\n",
    "np.random.seed(47)\n",
    "plt.rcParams['figure.figsize'] = [14, 8]"
   ]
  },
  {
   "cell_type": "markdown",
   "metadata": {},
   "source": [
    "### Build Environment"
   ]
  },
  {
   "cell_type": "markdown",
   "metadata": {},
   "source": [
    "Load forecasting model."
   ]
  },
  {
   "cell_type": "code",
   "execution_count": 2,
   "metadata": {},
   "outputs": [],
   "source": [
    "model_path = os.path.join(\"data\", \"sales_model.pkl\")\n",
    "sales_predictor = pickle.load(open(model_path, \"rb\"))"
   ]
  },
  {
   "cell_type": "code",
   "execution_count": 3,
   "metadata": {},
   "outputs": [],
   "source": [
    "prime_cost = 100\n",
    "min_price, max_price = prime_cost, prime_cost * 6"
   ]
  },
  {
   "cell_type": "code",
   "execution_count": 4,
   "metadata": {},
   "outputs": [],
   "source": [
    "env = MarketEnv(sales_predictor, prime_cost)"
   ]
  },
  {
   "cell_type": "code",
   "execution_count": 5,
   "metadata": {},
   "outputs": [
    {
     "data": {
      "text/plain": [
       "SalesPredictor() with LinearRegression()"
      ]
     },
     "execution_count": 5,
     "metadata": {},
     "output_type": "execute_result"
    }
   ],
   "source": [
    "sales_predictor"
   ]
  },
  {
   "cell_type": "markdown",
   "metadata": {},
   "source": [
    "### Train Agent"
   ]
  },
  {
   "cell_type": "markdown",
   "metadata": {},
   "source": [
    "Tune hyperparameters in order to maximize agent's cummulative reward."
   ]
  },
  {
   "cell_type": "code",
   "execution_count": 6,
   "metadata": {},
   "outputs": [],
   "source": [
    "# TODO: Your code here\n",
    "learning_rate=0.997 # alpha\n",
    "discount_factor=0.996 # gamma\n",
    "exploration_rate=0.997 # epsilon\n",
    "exploration_decay_rate=0.997\n",
    "bins_number=14\n",
    "episodes=5001"
   ]
  },
  {
   "cell_type": "code",
   "execution_count": 7,
   "metadata": {},
   "outputs": [],
   "source": [
    "agent = MarketAgent(min_price, max_price, bins_number, learning_rate, discount_factor, exploration_rate,\n",
    "                    exploration_decay_rate)"
   ]
  },
  {
   "cell_type": "code",
   "execution_count": null,
   "metadata": {},
   "outputs": [
    {
     "name": "stdout",
     "output_type": "stream",
     "text": [
      "Episode 0; Mean reward = 1158566.8532607937\n",
      "Episode 500; Mean reward = 1594410.780315143\n",
      "Episode 1000; Mean reward = 1712192.3531590449\n"
     ]
    }
   ],
   "source": [
    "# print(agent, episodes)\n",
    "cum_rewards = train(env, agent, episodes)"
   ]
  },
  {
   "cell_type": "code",
   "execution_count": null,
   "metadata": {},
   "outputs": [],
   "source": [
    "cum_rewards_, episodes_ = [], []\n",
    "for episode in range(0, episodes, 500):\n",
    "    episodes_.append(episode)\n",
    "    cum_rewards_.append(cum_rewards[episode])\n",
    "\n",
    "plt.plot(episodes_, cum_rewards_)\n",
    "plt.xlabel(\"Episode\")\n",
    "plt.ylabel(\"Mean Reward\")"
   ]
  },
  {
   "cell_type": "markdown",
   "metadata": {},
   "source": [
    "### RL vs Greedy strategy"
   ]
  },
  {
   "cell_type": "markdown",
   "metadata": {},
   "source": [
    "In this section you should compare policy (function of time), which your agent has learned, with greedy policy, which maximizes 1-step reward. Greedy policy can be found analytically, assuming complete knowledge of the environment. To compute greedy policy use prime_cost and parameters from forecasting model (seasonality, bias and intercept). Note that your reward function is a profit (check the environment)."
   ]
  },
  {
   "cell_type": "code",
   "execution_count": null,
   "metadata": {},
   "outputs": [],
   "source": [
    "seasonal = sales_predictor.seasonal[:52]"
   ]
  },
  {
   "cell_type": "code",
   "execution_count": null,
   "metadata": {},
   "outputs": [],
   "source": [
    "# TODO: Your code here\n",
    "def greedy_action(t):\n",
    "    # Derivative would be eq = k1*(p - prime_cost) + (k0 + k1*p + s(t) + eps)*1 = k1*p - k1*prime_cost + k0 + k1*p + s(t) + eps\n",
    "    # = 2k1*p - k1*prime_cost + k0 + s(t) + eps = 2k1*p - k1*prime_cost + k0 + s(t)\n",
    "    prime_cost = 100\n",
    "    min_price, max_price = prime_cost, prime_cost * 6\n",
    "    k0, k1 = sales_predictor.residuals_model.intercept_, sales_predictor.residuals_model.coef_[0]\n",
    "    s_t = seasonal[t]\n",
    "    return (k1*prime_cost - k0 - s_t) / (2*k1)"
   ]
  },
  {
   "cell_type": "markdown",
   "metadata": {},
   "source": [
    "Visualize greedy policy and agent's policy. Can you explain why they're pretty much the same?"
   ]
  },
  {
   "cell_type": "code",
   "execution_count": null,
   "metadata": {},
   "outputs": [],
   "source": [
    "# prepare data for greedy_action\n",
    "derivative_reward = {}\n",
    "for t in range(52):\n",
    "    derivative_reward[t] = greedy_action(t)\n",
    "    \n",
    "agent_actions = [agent.begin_episode(observation) for observation in range(52)]"
   ]
  },
  {
   "cell_type": "code",
   "execution_count": null,
   "metadata": {},
   "outputs": [],
   "source": [
    "plt.rcParams['figure.figsize'] = 20, 5\n",
    "fig, (ax1, ax2) = plt.subplots(1, 2)\n",
    "ax1.plot(derivative_reward.keys(), derivative_reward.values())\n",
    "ax1.set_title('Greedy function of sales')\n",
    "ax1.set_xlabel('Weeks')\n",
    "ax1.set_ylabel('Sales')\n",
    "ax2.plot([i for i in range(52)], agent_actions)\n",
    "ax2.set_title('Forecasted function of sales')\n",
    "ax2.set_xlabel('Weeks')\n",
    "ax2.set_ylabel('Sales')\n",
    "plt.show();"
   ]
  },
  {
   "cell_type": "code",
   "execution_count": 34,
   "metadata": {},
   "outputs": [
    {
     "data": {
      "image/png": "[encoded data removed]",
      "text/plain": [
       "<Figure size 1440x360 with 1 Axes>"
      ]
     },
     "metadata": {
      "needs_background": "light"
     },
     "output_type": "display_data"
    }
   ],
   "source": [
    "plt.plot(derivative_reward.keys(), derivative_reward.values())\n",
    "plt.plot([i for i in range(52)], agent_actions)\n",
    "# plt.set_title('Greedy function of sales')\n",
    "# plt.set_xlabel('Weeks')\n",
    "# plt.set_ylabel('Sales')\n",
    "plt.show();"
   ]
  },
  {
   "cell_type": "code",
   "execution_count": null,
   "metadata": {},
   "outputs": [],
   "source": []
  }
 ],
 "metadata": {
  "kernelspec": {
   "display_name": "Python 3",
   "language": "python",
   "name": "python3"
  },
  "language_info": {
   "codemirror_mode": {
    "name": "ipython",
    "version": 3
   },
   "file_extension": ".py",
   "mimetype": "text/x-python",
   "name": "python",
   "nbconvert_exporter": "python",
   "pygments_lexer": "ipython3",
   "version": "3.7.8"
  }
 },
 "nbformat": 4,
 "nbformat_minor": 4
}
